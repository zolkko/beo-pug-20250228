{
 "cells": [
  {
   "cell_type": "markdown",
   "id": "81b48459",
   "metadata": {},
   "source": [
    "## Rolling mean"
   ]
  },
  {
   "cell_type": "code",
   "execution_count": 1,
   "id": "e8e3c505",
   "metadata": {
    "ExecuteTime": {
     "end_time": "2022-01-28T09:01:31.876499Z",
     "start_time": "2022-01-28T09:01:31.389167Z"
    },
    "hidden": true
   },
   "outputs": [],
   "source": [
    "import pandas as pd\n",
    "import polars as pl\n",
    "import numpy as np\n",
    "import sys\n",
    "#%load_ext line_profiler\n",
    "\n",
    "df = pd.DataFrame({'B': np.random.randint(0,100, 100_000_000) / 100})\n",
    "df['B'] = df['B'].astype(float)\n",
    "WINDOW = 500\n",
    "\n",
    "vals = df['B'].values\n",
    "results = {}"
   ]
  },
  {
   "cell_type": "markdown",
   "id": "39f7ea0c",
   "metadata": {
    "heading_collapsed": true
   },
   "source": [
    "### Naive"
   ]
  },
  {
   "cell_type": "code",
   "execution_count": null,
   "id": "2f0a494b",
   "metadata": {
    "ExecuteTime": {
     "end_time": "2022-01-28T07:49:43.418263Z",
     "start_time": "2022-01-28T07:49:43.415067Z"
    },
    "hidden": true
   },
   "outputs": [],
   "source": [
    "def rolling_mean_v0(l, k):\n",
    "    res = [np.nan for i in l]\n",
    "    for i, val in enumerate(l):\n",
    "        if i == (k-1):\n",
    "            res[i] = sum(l[:(i+1)]) / k\n",
    "        elif i >= k:\n",
    "            res[i] = sum(l[(i-(k-1)):(i+1)]) / k\n",
    "    return res"
   ]
  },
  {
   "cell_type": "code",
   "execution_count": null,
   "id": "c1113453",
   "metadata": {
    "ExecuteTime": {
     "end_time": "2022-01-28T07:49:51.636612Z",
     "start_time": "2022-01-28T07:49:50.664458Z"
    },
    "hidden": true
   },
   "outputs": [],
   "source": [
    "df['v0'] = rolling_mean_v0(vals, WINDOW)"
   ]
  },
  {
   "cell_type": "code",
   "execution_count": null,
   "id": "39daf88a-9e6b-48b8-903c-a8d574bfde3c",
   "metadata": {},
   "outputs": [],
   "source": [
    "v = %timeit -o rolling_mean_v0(vals, WINDOW)\n",
    "results['v0'] = {\"name\": \"naive\", \"time\": v.average}"
   ]
  },
  {
   "cell_type": "markdown",
   "id": "4ee5f0b4",
   "metadata": {
    "heading_collapsed": true
   },
   "source": [
    "### v1"
   ]
  },
  {
   "cell_type": "code",
   "execution_count": null,
   "id": "00101b21",
   "metadata": {
    "ExecuteTime": {
     "end_time": "2022-01-28T07:49:51.638855Z",
     "start_time": "2022-01-28T07:49:51.637332Z"
    },
    "hidden": true
   },
   "outputs": [],
   "source": [
    "def rolling_mean_v1():\n",
    "    return df['B'].rolling(WINDOW).mean()"
   ]
  },
  {
   "cell_type": "code",
   "execution_count": null,
   "id": "ac981a69",
   "metadata": {
    "ExecuteTime": {
     "end_time": "2022-01-28T07:49:51.653755Z",
     "start_time": "2022-01-28T07:49:51.640700Z"
    },
    "hidden": true,
    "scrolled": true
   },
   "outputs": [],
   "source": [
    "df['v1'] = rolling_mean_v1()"
   ]
  },
  {
   "cell_type": "code",
   "execution_count": null,
   "id": "fca008ea",
   "metadata": {
    "ExecuteTime": {
     "end_time": "2022-01-28T07:49:59.302268Z",
     "start_time": "2022-01-28T07:49:51.654378Z"
    },
    "hidden": true
   },
   "outputs": [],
   "source": [
    "v = %timeit -o rolling_mean_v1()\n",
    "results['v1'] = {\"name\": \"pandas\", \"time\": v.average}"
   ]
  },
  {
   "cell_type": "markdown",
   "id": "379c4b53",
   "metadata": {
    "heading_collapsed": true
   },
   "source": [
    "### v2"
   ]
  },
  {
   "cell_type": "code",
   "execution_count": null,
   "id": "668702c9",
   "metadata": {
    "ExecuteTime": {
     "end_time": "2022-01-28T07:49:59.305308Z",
     "start_time": "2022-01-28T07:49:59.302968Z"
    },
    "hidden": true
   },
   "outputs": [],
   "source": [
    "def rolling_mean_v2(l, k):\n",
    "    s = 0.0\n",
    "    c = 0\n",
    "    res = [np.nan for i in l]\n",
    "    for i, val in enumerate(l):\n",
    "        if c < (k-1):\n",
    "            s += val\n",
    "            c += 1\n",
    "        else:\n",
    "            s -= (l[i-k] if i-k >=0 else 0)\n",
    "            s += val\n",
    "            res[i] = s / k\n",
    "    return res\n",
    "#%lprun -f rolling_mean_v2 rolling_mean_v2(vals, 3)"
   ]
  },
  {
   "cell_type": "code",
   "execution_count": null,
   "id": "abcaef10",
   "metadata": {
    "ExecuteTime": {
     "end_time": "2022-01-28T07:50:02.193181Z",
     "start_time": "2022-01-28T07:49:59.305845Z"
    },
    "hidden": true
   },
   "outputs": [],
   "source": [
    "v = %timeit -o rolling_mean_v2(vals, WINDOW)\n",
    "results['v2'] = {\"name\": \"window\", \"time\": v.average}"
   ]
  },
  {
   "cell_type": "code",
   "execution_count": null,
   "id": "7562ed56",
   "metadata": {
    "ExecuteTime": {
     "end_time": "2022-01-28T07:50:02.627456Z",
     "start_time": "2022-01-28T07:50:02.193914Z"
    },
    "hidden": true
   },
   "outputs": [],
   "source": [
    "df['v2'] = rolling_mean_v2(vals, WINDOW)"
   ]
  },
  {
   "cell_type": "markdown",
   "id": "9b4c223c",
   "metadata": {
    "heading_collapsed": true
   },
   "source": [
    "###  v3"
   ]
  },
  {
   "cell_type": "code",
   "execution_count": null,
   "id": "b9c4b01f",
   "metadata": {
    "ExecuteTime": {
     "end_time": "2022-01-28T07:50:02.630100Z",
     "start_time": "2022-01-28T07:50:02.628041Z"
    },
    "hidden": true
   },
   "outputs": [],
   "source": [
    "def rolling_mean_v3(l, k):\n",
    "    s = sum(l[:k])\n",
    "    res = [np.nan]*len(l)\n",
    "    res[k-1] = s / k\n",
    "    for i, val in enumerate(l[(k):]):    \n",
    "        s -= l[i]\n",
    "        s += val\n",
    "        res[i+(k)] = s / k\n",
    "    return res"
   ]
  },
  {
   "cell_type": "code",
   "execution_count": null,
   "id": "295a5d74",
   "metadata": {
    "ExecuteTime": {
     "end_time": "2022-01-28T07:50:02.965905Z",
     "start_time": "2022-01-28T07:50:02.630663Z"
    },
    "hidden": true
   },
   "outputs": [],
   "source": [
    "df['v3'] = rolling_mean_v3(vals, WINDOW)"
   ]
  },
  {
   "cell_type": "code",
   "execution_count": null,
   "id": "f70d4479",
   "metadata": {
    "ExecuteTime": {
     "end_time": "2022-01-28T07:50:05.074033Z",
     "start_time": "2022-01-28T07:50:02.966670Z"
    },
    "hidden": true
   },
   "outputs": [],
   "source": [
    "v = %timeit -o rolling_mean_v3(vals, WINDOW)\n",
    "results['v3'] = {\"name\": \"window_less_branching\", \"time\": v.average}"
   ]
  },
  {
   "cell_type": "markdown",
   "id": "e6d30433",
   "metadata": {
    "heading_collapsed": true
   },
   "source": [
    "### v4"
   ]
  },
  {
   "cell_type": "code",
   "execution_count": 3,
   "id": "5896eb54",
   "metadata": {
    "ExecuteTime": {
     "end_time": "2022-01-28T09:01:37.027420Z",
     "start_time": "2022-01-28T09:01:36.417135Z"
    },
    "hidden": true
   },
   "outputs": [],
   "source": [
    "%load_ext Cython"
   ]
  },
  {
   "cell_type": "code",
   "execution_count": null,
   "id": "b7321f73",
   "metadata": {
    "ExecuteTime": {
     "end_time": "2022-01-28T09:01:38.635483Z",
     "start_time": "2022-01-28T09:01:38.618674Z"
    },
    "hidden": true,
    "scrolled": true
   },
   "outputs": [],
   "source": [
    "%%cython -a\n",
    "\n",
    "cimport cython\n",
    "import numpy as np\n",
    "cimport numpy as np\n",
    "\n",
    "def rolling_mean_v4(l, k):\n",
    "    s = sum(l[:k])\n",
    "    res = [np.nan]*len(l)\n",
    "    res[k-1] = s / k\n",
    "    for i, val in enumerate(l[(k):]):    \n",
    "        s -= l[i]\n",
    "        s += val\n",
    "        res[i+(k)] = s / k\n",
    "    return res"
   ]
  },
  {
   "cell_type": "code",
   "execution_count": null,
   "id": "a30c0efe",
   "metadata": {
    "ExecuteTime": {
     "end_time": "2022-01-28T07:50:07.492558Z",
     "start_time": "2022-01-28T07:50:05.521140Z"
    },
    "hidden": true
   },
   "outputs": [],
   "source": [
    "v = %timeit -o rolling_mean_v4(vals, WINDOW)\n",
    "results['v4'] = {\"name\": \"cython_v1\", \"time\": v.average}"
   ]
  },
  {
   "cell_type": "code",
   "execution_count": null,
   "id": "01ea5d64",
   "metadata": {
    "ExecuteTime": {
     "end_time": "2022-01-28T07:50:07.766332Z",
     "start_time": "2022-01-28T07:50:07.493242Z"
    },
    "hidden": true
   },
   "outputs": [],
   "source": [
    "df['v4'] = np.array(rolling_mean_v4(vals, WINDOW))"
   ]
  },
  {
   "cell_type": "markdown",
   "id": "446d874e",
   "metadata": {
    "heading_collapsed": true
   },
   "source": [
    "### v5"
   ]
  },
  {
   "cell_type": "code",
   "execution_count": null,
   "id": "0e559b64",
   "metadata": {
    "ExecuteTime": {
     "end_time": "2022-01-28T09:02:29.781350Z",
     "start_time": "2022-01-28T09:02:29.767954Z"
    },
    "hidden": true,
    "scrolled": true
   },
   "outputs": [],
   "source": [
    "%%cython -a\n",
    "\n",
    "cimport cython\n",
    "import numpy as np\n",
    "cimport numpy as np\n",
    "\n",
    "cdef float NAN \n",
    "NAN = float(\"NaN\") \n",
    "\n",
    "@cython.boundscheck(False)\n",
    "def rolling_mean_v5(np.float64_t[:] l, int k):\n",
    "    cdef:\n",
    "        int i = 0\n",
    "        np.float64_t s\n",
    "        np.float64_t val\n",
    "        cdef np.float64_t[:] res = np.empty(len(l))\n",
    "    s = sum(l[:k])\n",
    "    res[:k] = np.nan\n",
    "    res[k-1] = s / k\n",
    "    for i, val in enumerate(l[(k):]):\n",
    "        s += (val - l[i])\n",
    "        res[i+(k)] = s / k\n",
    "        i += 1\n",
    "    return res"
   ]
  },
  {
   "cell_type": "code",
   "execution_count": null,
   "id": "d770de35",
   "metadata": {
    "ExecuteTime": {
     "end_time": "2022-01-28T07:50:16.806765Z",
     "start_time": "2022-01-28T07:50:07.771893Z"
    },
    "hidden": true
   },
   "outputs": [],
   "source": [
    "v = %timeit -o rolling_mean_v5(vals, WINDOW)\n",
    "results['v5'] = {\"name\": \"cython_v2_added_cdef\", \"time\": v.average}"
   ]
  },
  {
   "cell_type": "code",
   "execution_count": null,
   "id": "e75e3440",
   "metadata": {
    "ExecuteTime": {
     "end_time": "2022-01-28T07:50:16.921193Z",
     "start_time": "2022-01-28T07:50:16.807552Z"
    },
    "hidden": true
   },
   "outputs": [],
   "source": [
    "df['v5'] = np.array(rolling_mean_v5(vals, WINDOW))"
   ]
  },
  {
   "cell_type": "markdown",
   "id": "0e194cb2",
   "metadata": {
    "heading_collapsed": true
   },
   "source": [
    "### v6"
   ]
  },
  {
   "cell_type": "code",
   "execution_count": null,
   "id": "57772db2",
   "metadata": {
    "ExecuteTime": {
     "end_time": "2022-01-28T07:50:16.926568Z",
     "start_time": "2022-01-28T07:50:16.921977Z"
    },
    "hidden": true,
    "scrolled": true
   },
   "outputs": [],
   "source": [
    "%%cython -a\n",
    "\n",
    "cimport cython\n",
    "import numpy as np\n",
    "cimport numpy as np\n",
    "\n",
    "cdef float NAN \n",
    "NAN = float(\"NaN\") \n",
    "\n",
    "@cython.boundscheck(False)\n",
    "@cython.cdivision(True)\n",
    "def rolling_mean_v6(np.float64_t[:] l, int k):\n",
    "    cdef:\n",
    "        int i = 0\n",
    "        int len_l = len(l[(k):])\n",
    "        float k_f = k\n",
    "        np.float64_t s = 0.0\n",
    "        np.float64_t val\n",
    "        cdef np.float64_t[:] res = np.empty(len_l+k)\n",
    "    s = sum(l[:k])\n",
    "    res[:k] = np.nan\n",
    "    res[k-1] = s / k_f\n",
    "    while i < len_l:\n",
    "        s += (l[i+k] - l[i])\n",
    "        res[i+k] = s / k_f\n",
    "        i += 1\n",
    "    return res"
   ]
  },
  {
   "cell_type": "code",
   "execution_count": null,
   "id": "d40d7101",
   "metadata": {
    "ExecuteTime": {
     "end_time": "2022-01-28T07:50:26.994429Z",
     "start_time": "2022-01-28T07:50:16.927382Z"
    },
    "hidden": true,
    "scrolled": true
   },
   "outputs": [],
   "source": [
    "v = %timeit -o rolling_mean_v6(vals, WINDOW)\n",
    "results['v6'] = {\"name\": \"cython_v2_more_def_less_safety\", \"time\": v.average}"
   ]
  },
  {
   "cell_type": "code",
   "execution_count": null,
   "id": "03506e2f",
   "metadata": {
    "ExecuteTime": {
     "end_time": "2022-01-28T07:50:26.999671Z",
     "start_time": "2022-01-28T07:50:26.995123Z"
    },
    "hidden": true
   },
   "outputs": [],
   "source": [
    "df['v6'] = np.array(rolling_mean_v6(vals, WINDOW))"
   ]
  },
  {
   "cell_type": "markdown",
   "id": "21e7f0be-3f54-490f-8bad-c1eefdaaf531",
   "metadata": {},
   "source": [
    "### V7"
   ]
  },
  {
   "cell_type": "code",
   "execution_count": null,
   "id": "2f2b7819-6bd6-49d4-a2ca-4556613d849c",
   "metadata": {},
   "outputs": [],
   "source": [
    "polars_df = pl.DataFrame({\"A\": vals})\n",
    "\n",
    "def rolling_mean_v7(window_size):\n",
    "    return polars_df.with_columns(\n",
    "    rolling_mean=pl.col(\"A\").rolling_mean(window_size=window_size),\n",
    ")\n",
    "\n",
    "df['v7'] = rolling_mean_v7(WINDOW)['rolling_mean'].to_numpy()"
   ]
  },
  {
   "cell_type": "code",
   "execution_count": null,
   "id": "e7e3dc87-2f08-44f1-86e7-39f794b91389",
   "metadata": {},
   "outputs": [],
   "source": [
    "v = %timeit -o rolling_mean_v7(WINDOW)\n",
    "results['v7'] = {\"name\": \"polars\", \"time\": v.average}"
   ]
  },
  {
   "cell_type": "markdown",
   "id": "4e786744-aeca-4a3c-b642-0a2bd8db0e9f",
   "metadata": {},
   "source": [
    "### V8"
   ]
  },
  {
   "cell_type": "code",
   "execution_count": 4,
   "id": "963fe480-86cb-47a1-b000-d9a71cf34776",
   "metadata": {},
   "outputs": [
    {
     "data": {
      "text/html": [
       "<!DOCTYPE html>\n",
       "<!-- Generated by Cython 3.0.12 -->\n",
       "<html>\n",
       "<head>\n",
       "    <meta http-equiv=\"Content-Type\" content=\"text/html; charset=utf-8\" />\n",
       "    <title>Cython: _cython_magic_b1602cea9973f2be8d54a3ed990b83fdf01b25c6.pyx</title>\n",
       "    <style type=\"text/css\">\n",
       "    \n",
       "body.cython { font-family: courier; font-size: 12; }\n",
       "\n",
       ".cython.tag  {  }\n",
       ".cython.line { color: #000000; margin: 0em }\n",
       ".cython.code { font-size: 9; color: #444444; display: none; margin: 0px 0px 0px 8px; border-left: 8px none; }\n",
       "\n",
       ".cython.line .run { background-color: #B0FFB0; }\n",
       ".cython.line .mis { background-color: #FFB0B0; }\n",
       ".cython.code.run  { border-left: 8px solid #B0FFB0; }\n",
       ".cython.code.mis  { border-left: 8px solid #FFB0B0; }\n",
       "\n",
       ".cython.code .py_c_api  { color: red; }\n",
       ".cython.code .py_macro_api  { color: #FF7000; }\n",
       ".cython.code .pyx_c_api  { color: #FF3000; }\n",
       ".cython.code .pyx_macro_api  { color: #FF7000; }\n",
       ".cython.code .refnanny  { color: #FFA000; }\n",
       ".cython.code .trace  { color: #FFA000; }\n",
       ".cython.code .error_goto  { color: #FFA000; }\n",
       "\n",
       ".cython.code .coerce  { color: #008000; border: 1px dotted #008000 }\n",
       ".cython.code .py_attr { color: #FF0000; font-weight: bold; }\n",
       ".cython.code .c_attr  { color: #0000FF; }\n",
       ".cython.code .py_call { color: #FF0000; font-weight: bold; }\n",
       ".cython.code .c_call  { color: #0000FF; }\n",
       "\n",
       ".cython.score-0 {background-color: #FFFFff;}\n",
       ".cython.score-1 {background-color: #FFFFe7;}\n",
       ".cython.score-2 {background-color: #FFFFd4;}\n",
       ".cython.score-3 {background-color: #FFFFc4;}\n",
       ".cython.score-4 {background-color: #FFFFb6;}\n",
       ".cython.score-5 {background-color: #FFFFaa;}\n",
       ".cython.score-6 {background-color: #FFFF9f;}\n",
       ".cython.score-7 {background-color: #FFFF96;}\n",
       ".cython.score-8 {background-color: #FFFF8d;}\n",
       ".cython.score-9 {background-color: #FFFF86;}\n",
       ".cython.score-10 {background-color: #FFFF7f;}\n",
       ".cython.score-11 {background-color: #FFFF79;}\n",
       ".cython.score-12 {background-color: #FFFF73;}\n",
       ".cython.score-13 {background-color: #FFFF6e;}\n",
       ".cython.score-14 {background-color: #FFFF6a;}\n",
       ".cython.score-15 {background-color: #FFFF66;}\n",
       ".cython.score-16 {background-color: #FFFF62;}\n",
       ".cython.score-17 {background-color: #FFFF5e;}\n",
       ".cython.score-18 {background-color: #FFFF5b;}\n",
       ".cython.score-19 {background-color: #FFFF57;}\n",
       ".cython.score-20 {background-color: #FFFF55;}\n",
       ".cython.score-21 {background-color: #FFFF52;}\n",
       ".cython.score-22 {background-color: #FFFF4f;}\n",
       ".cython.score-23 {background-color: #FFFF4d;}\n",
       ".cython.score-24 {background-color: #FFFF4b;}\n",
       ".cython.score-25 {background-color: #FFFF48;}\n",
       ".cython.score-26 {background-color: #FFFF46;}\n",
       ".cython.score-27 {background-color: #FFFF44;}\n",
       ".cython.score-28 {background-color: #FFFF43;}\n",
       ".cython.score-29 {background-color: #FFFF41;}\n",
       ".cython.score-30 {background-color: #FFFF3f;}\n",
       ".cython.score-31 {background-color: #FFFF3e;}\n",
       ".cython.score-32 {background-color: #FFFF3c;}\n",
       ".cython.score-33 {background-color: #FFFF3b;}\n",
       ".cython.score-34 {background-color: #FFFF39;}\n",
       ".cython.score-35 {background-color: #FFFF38;}\n",
       ".cython.score-36 {background-color: #FFFF37;}\n",
       ".cython.score-37 {background-color: #FFFF36;}\n",
       ".cython.score-38 {background-color: #FFFF35;}\n",
       ".cython.score-39 {background-color: #FFFF34;}\n",
       ".cython.score-40 {background-color: #FFFF33;}\n",
       ".cython.score-41 {background-color: #FFFF32;}\n",
       ".cython.score-42 {background-color: #FFFF31;}\n",
       ".cython.score-43 {background-color: #FFFF30;}\n",
       ".cython.score-44 {background-color: #FFFF2f;}\n",
       ".cython.score-45 {background-color: #FFFF2e;}\n",
       ".cython.score-46 {background-color: #FFFF2d;}\n",
       ".cython.score-47 {background-color: #FFFF2c;}\n",
       ".cython.score-48 {background-color: #FFFF2b;}\n",
       ".cython.score-49 {background-color: #FFFF2b;}\n",
       ".cython.score-50 {background-color: #FFFF2a;}\n",
       ".cython.score-51 {background-color: #FFFF29;}\n",
       ".cython.score-52 {background-color: #FFFF29;}\n",
       ".cython.score-53 {background-color: #FFFF28;}\n",
       ".cython.score-54 {background-color: #FFFF27;}\n",
       ".cython.score-55 {background-color: #FFFF27;}\n",
       ".cython.score-56 {background-color: #FFFF26;}\n",
       ".cython.score-57 {background-color: #FFFF26;}\n",
       ".cython.score-58 {background-color: #FFFF25;}\n",
       ".cython.score-59 {background-color: #FFFF24;}\n",
       ".cython.score-60 {background-color: #FFFF24;}\n",
       ".cython.score-61 {background-color: #FFFF23;}\n",
       ".cython.score-62 {background-color: #FFFF23;}\n",
       ".cython.score-63 {background-color: #FFFF22;}\n",
       ".cython.score-64 {background-color: #FFFF22;}\n",
       ".cython.score-65 {background-color: #FFFF22;}\n",
       ".cython.score-66 {background-color: #FFFF21;}\n",
       ".cython.score-67 {background-color: #FFFF21;}\n",
       ".cython.score-68 {background-color: #FFFF20;}\n",
       ".cython.score-69 {background-color: #FFFF20;}\n",
       ".cython.score-70 {background-color: #FFFF1f;}\n",
       ".cython.score-71 {background-color: #FFFF1f;}\n",
       ".cython.score-72 {background-color: #FFFF1f;}\n",
       ".cython.score-73 {background-color: #FFFF1e;}\n",
       ".cython.score-74 {background-color: #FFFF1e;}\n",
       ".cython.score-75 {background-color: #FFFF1e;}\n",
       ".cython.score-76 {background-color: #FFFF1d;}\n",
       ".cython.score-77 {background-color: #FFFF1d;}\n",
       ".cython.score-78 {background-color: #FFFF1c;}\n",
       ".cython.score-79 {background-color: #FFFF1c;}\n",
       ".cython.score-80 {background-color: #FFFF1c;}\n",
       ".cython.score-81 {background-color: #FFFF1c;}\n",
       ".cython.score-82 {background-color: #FFFF1b;}\n",
       ".cython.score-83 {background-color: #FFFF1b;}\n",
       ".cython.score-84 {background-color: #FFFF1b;}\n",
       ".cython.score-85 {background-color: #FFFF1a;}\n",
       ".cython.score-86 {background-color: #FFFF1a;}\n",
       ".cython.score-87 {background-color: #FFFF1a;}\n",
       ".cython.score-88 {background-color: #FFFF1a;}\n",
       ".cython.score-89 {background-color: #FFFF19;}\n",
       ".cython.score-90 {background-color: #FFFF19;}\n",
       ".cython.score-91 {background-color: #FFFF19;}\n",
       ".cython.score-92 {background-color: #FFFF19;}\n",
       ".cython.score-93 {background-color: #FFFF18;}\n",
       ".cython.score-94 {background-color: #FFFF18;}\n",
       ".cython.score-95 {background-color: #FFFF18;}\n",
       ".cython.score-96 {background-color: #FFFF18;}\n",
       ".cython.score-97 {background-color: #FFFF17;}\n",
       ".cython.score-98 {background-color: #FFFF17;}\n",
       ".cython.score-99 {background-color: #FFFF17;}\n",
       ".cython.score-100 {background-color: #FFFF17;}\n",
       ".cython.score-101 {background-color: #FFFF16;}\n",
       ".cython.score-102 {background-color: #FFFF16;}\n",
       ".cython.score-103 {background-color: #FFFF16;}\n",
       ".cython.score-104 {background-color: #FFFF16;}\n",
       ".cython.score-105 {background-color: #FFFF16;}\n",
       ".cython.score-106 {background-color: #FFFF15;}\n",
       ".cython.score-107 {background-color: #FFFF15;}\n",
       ".cython.score-108 {background-color: #FFFF15;}\n",
       ".cython.score-109 {background-color: #FFFF15;}\n",
       ".cython.score-110 {background-color: #FFFF15;}\n",
       ".cython.score-111 {background-color: #FFFF15;}\n",
       ".cython.score-112 {background-color: #FFFF14;}\n",
       ".cython.score-113 {background-color: #FFFF14;}\n",
       ".cython.score-114 {background-color: #FFFF14;}\n",
       ".cython.score-115 {background-color: #FFFF14;}\n",
       ".cython.score-116 {background-color: #FFFF14;}\n",
       ".cython.score-117 {background-color: #FFFF14;}\n",
       ".cython.score-118 {background-color: #FFFF13;}\n",
       ".cython.score-119 {background-color: #FFFF13;}\n",
       ".cython.score-120 {background-color: #FFFF13;}\n",
       ".cython.score-121 {background-color: #FFFF13;}\n",
       ".cython.score-122 {background-color: #FFFF13;}\n",
       ".cython.score-123 {background-color: #FFFF13;}\n",
       ".cython.score-124 {background-color: #FFFF13;}\n",
       ".cython.score-125 {background-color: #FFFF12;}\n",
       ".cython.score-126 {background-color: #FFFF12;}\n",
       ".cython.score-127 {background-color: #FFFF12;}\n",
       ".cython.score-128 {background-color: #FFFF12;}\n",
       ".cython.score-129 {background-color: #FFFF12;}\n",
       ".cython.score-130 {background-color: #FFFF12;}\n",
       ".cython.score-131 {background-color: #FFFF12;}\n",
       ".cython.score-132 {background-color: #FFFF11;}\n",
       ".cython.score-133 {background-color: #FFFF11;}\n",
       ".cython.score-134 {background-color: #FFFF11;}\n",
       ".cython.score-135 {background-color: #FFFF11;}\n",
       ".cython.score-136 {background-color: #FFFF11;}\n",
       ".cython.score-137 {background-color: #FFFF11;}\n",
       ".cython.score-138 {background-color: #FFFF11;}\n",
       ".cython.score-139 {background-color: #FFFF11;}\n",
       ".cython.score-140 {background-color: #FFFF11;}\n",
       ".cython.score-141 {background-color: #FFFF10;}\n",
       ".cython.score-142 {background-color: #FFFF10;}\n",
       ".cython.score-143 {background-color: #FFFF10;}\n",
       ".cython.score-144 {background-color: #FFFF10;}\n",
       ".cython.score-145 {background-color: #FFFF10;}\n",
       ".cython.score-146 {background-color: #FFFF10;}\n",
       ".cython.score-147 {background-color: #FFFF10;}\n",
       ".cython.score-148 {background-color: #FFFF10;}\n",
       ".cython.score-149 {background-color: #FFFF10;}\n",
       ".cython.score-150 {background-color: #FFFF0f;}\n",
       ".cython.score-151 {background-color: #FFFF0f;}\n",
       ".cython.score-152 {background-color: #FFFF0f;}\n",
       ".cython.score-153 {background-color: #FFFF0f;}\n",
       ".cython.score-154 {background-color: #FFFF0f;}\n",
       ".cython.score-155 {background-color: #FFFF0f;}\n",
       ".cython.score-156 {background-color: #FFFF0f;}\n",
       ".cython.score-157 {background-color: #FFFF0f;}\n",
       ".cython.score-158 {background-color: #FFFF0f;}\n",
       ".cython.score-159 {background-color: #FFFF0f;}\n",
       ".cython.score-160 {background-color: #FFFF0f;}\n",
       ".cython.score-161 {background-color: #FFFF0e;}\n",
       ".cython.score-162 {background-color: #FFFF0e;}\n",
       ".cython.score-163 {background-color: #FFFF0e;}\n",
       ".cython.score-164 {background-color: #FFFF0e;}\n",
       ".cython.score-165 {background-color: #FFFF0e;}\n",
       ".cython.score-166 {background-color: #FFFF0e;}\n",
       ".cython.score-167 {background-color: #FFFF0e;}\n",
       ".cython.score-168 {background-color: #FFFF0e;}\n",
       ".cython.score-169 {background-color: #FFFF0e;}\n",
       ".cython.score-170 {background-color: #FFFF0e;}\n",
       ".cython.score-171 {background-color: #FFFF0e;}\n",
       ".cython.score-172 {background-color: #FFFF0e;}\n",
       ".cython.score-173 {background-color: #FFFF0d;}\n",
       ".cython.score-174 {background-color: #FFFF0d;}\n",
       ".cython.score-175 {background-color: #FFFF0d;}\n",
       ".cython.score-176 {background-color: #FFFF0d;}\n",
       ".cython.score-177 {background-color: #FFFF0d;}\n",
       ".cython.score-178 {background-color: #FFFF0d;}\n",
       ".cython.score-179 {background-color: #FFFF0d;}\n",
       ".cython.score-180 {background-color: #FFFF0d;}\n",
       ".cython.score-181 {background-color: #FFFF0d;}\n",
       ".cython.score-182 {background-color: #FFFF0d;}\n",
       ".cython.score-183 {background-color: #FFFF0d;}\n",
       ".cython.score-184 {background-color: #FFFF0d;}\n",
       ".cython.score-185 {background-color: #FFFF0d;}\n",
       ".cython.score-186 {background-color: #FFFF0d;}\n",
       ".cython.score-187 {background-color: #FFFF0c;}\n",
       ".cython.score-188 {background-color: #FFFF0c;}\n",
       ".cython.score-189 {background-color: #FFFF0c;}\n",
       ".cython.score-190 {background-color: #FFFF0c;}\n",
       ".cython.score-191 {background-color: #FFFF0c;}\n",
       ".cython.score-192 {background-color: #FFFF0c;}\n",
       ".cython.score-193 {background-color: #FFFF0c;}\n",
       ".cython.score-194 {background-color: #FFFF0c;}\n",
       ".cython.score-195 {background-color: #FFFF0c;}\n",
       ".cython.score-196 {background-color: #FFFF0c;}\n",
       ".cython.score-197 {background-color: #FFFF0c;}\n",
       ".cython.score-198 {background-color: #FFFF0c;}\n",
       ".cython.score-199 {background-color: #FFFF0c;}\n",
       ".cython.score-200 {background-color: #FFFF0c;}\n",
       ".cython.score-201 {background-color: #FFFF0c;}\n",
       ".cython.score-202 {background-color: #FFFF0c;}\n",
       ".cython.score-203 {background-color: #FFFF0b;}\n",
       ".cython.score-204 {background-color: #FFFF0b;}\n",
       ".cython.score-205 {background-color: #FFFF0b;}\n",
       ".cython.score-206 {background-color: #FFFF0b;}\n",
       ".cython.score-207 {background-color: #FFFF0b;}\n",
       ".cython.score-208 {background-color: #FFFF0b;}\n",
       ".cython.score-209 {background-color: #FFFF0b;}\n",
       ".cython.score-210 {background-color: #FFFF0b;}\n",
       ".cython.score-211 {background-color: #FFFF0b;}\n",
       ".cython.score-212 {background-color: #FFFF0b;}\n",
       ".cython.score-213 {background-color: #FFFF0b;}\n",
       ".cython.score-214 {background-color: #FFFF0b;}\n",
       ".cython.score-215 {background-color: #FFFF0b;}\n",
       ".cython.score-216 {background-color: #FFFF0b;}\n",
       ".cython.score-217 {background-color: #FFFF0b;}\n",
       ".cython.score-218 {background-color: #FFFF0b;}\n",
       ".cython.score-219 {background-color: #FFFF0b;}\n",
       ".cython.score-220 {background-color: #FFFF0b;}\n",
       ".cython.score-221 {background-color: #FFFF0b;}\n",
       ".cython.score-222 {background-color: #FFFF0a;}\n",
       ".cython.score-223 {background-color: #FFFF0a;}\n",
       ".cython.score-224 {background-color: #FFFF0a;}\n",
       ".cython.score-225 {background-color: #FFFF0a;}\n",
       ".cython.score-226 {background-color: #FFFF0a;}\n",
       ".cython.score-227 {background-color: #FFFF0a;}\n",
       ".cython.score-228 {background-color: #FFFF0a;}\n",
       ".cython.score-229 {background-color: #FFFF0a;}\n",
       ".cython.score-230 {background-color: #FFFF0a;}\n",
       ".cython.score-231 {background-color: #FFFF0a;}\n",
       ".cython.score-232 {background-color: #FFFF0a;}\n",
       ".cython.score-233 {background-color: #FFFF0a;}\n",
       ".cython.score-234 {background-color: #FFFF0a;}\n",
       ".cython.score-235 {background-color: #FFFF0a;}\n",
       ".cython.score-236 {background-color: #FFFF0a;}\n",
       ".cython.score-237 {background-color: #FFFF0a;}\n",
       ".cython.score-238 {background-color: #FFFF0a;}\n",
       ".cython.score-239 {background-color: #FFFF0a;}\n",
       ".cython.score-240 {background-color: #FFFF0a;}\n",
       ".cython.score-241 {background-color: #FFFF0a;}\n",
       ".cython.score-242 {background-color: #FFFF0a;}\n",
       ".cython.score-243 {background-color: #FFFF0a;}\n",
       ".cython.score-244 {background-color: #FFFF0a;}\n",
       ".cython.score-245 {background-color: #FFFF0a;}\n",
       ".cython.score-246 {background-color: #FFFF09;}\n",
       ".cython.score-247 {background-color: #FFFF09;}\n",
       ".cython.score-248 {background-color: #FFFF09;}\n",
       ".cython.score-249 {background-color: #FFFF09;}\n",
       ".cython.score-250 {background-color: #FFFF09;}\n",
       ".cython.score-251 {background-color: #FFFF09;}\n",
       ".cython.score-252 {background-color: #FFFF09;}\n",
       ".cython.score-253 {background-color: #FFFF09;}\n",
       ".cython.score-254 {background-color: #FFFF09;}\n",
       "pre { line-height: 125%; }\n",
       "td.linenos .normal { color: inherit; background-color: transparent; padding-left: 5px; padding-right: 5px; }\n",
       "span.linenos { color: inherit; background-color: transparent; padding-left: 5px; padding-right: 5px; }\n",
       "td.linenos .special { color: #000000; background-color: #ffffc0; padding-left: 5px; padding-right: 5px; }\n",
       "span.linenos.special { color: #000000; background-color: #ffffc0; padding-left: 5px; padding-right: 5px; }\n",
       ".cython .hll { background-color: #ffffcc }\n",
       ".cython { background: #f8f8f8; }\n",
       ".cython .c { color: #3D7B7B; font-style: italic } /* Comment */\n",
       ".cython .err { border: 1px solid #F00 } /* Error */\n",
       ".cython .k { color: #008000; font-weight: bold } /* Keyword */\n",
       ".cython .o { color: #666 } /* Operator */\n",
       ".cython .ch { color: #3D7B7B; font-style: italic } /* Comment.Hashbang */\n",
       ".cython .cm { color: #3D7B7B; font-style: italic } /* Comment.Multiline */\n",
       ".cython .cp { color: #9C6500 } /* Comment.Preproc */\n",
       ".cython .cpf { color: #3D7B7B; font-style: italic } /* Comment.PreprocFile */\n",
       ".cython .c1 { color: #3D7B7B; font-style: italic } /* Comment.Single */\n",
       ".cython .cs { color: #3D7B7B; font-style: italic } /* Comment.Special */\n",
       ".cython .gd { color: #A00000 } /* Generic.Deleted */\n",
       ".cython .ge { font-style: italic } /* Generic.Emph */\n",
       ".cython .ges { font-weight: bold; font-style: italic } /* Generic.EmphStrong */\n",
       ".cython .gr { color: #E40000 } /* Generic.Error */\n",
       ".cython .gh { color: #000080; font-weight: bold } /* Generic.Heading */\n",
       ".cython .gi { color: #008400 } /* Generic.Inserted */\n",
       ".cython .go { color: #717171 } /* Generic.Output */\n",
       ".cython .gp { color: #000080; font-weight: bold } /* Generic.Prompt */\n",
       ".cython .gs { font-weight: bold } /* Generic.Strong */\n",
       ".cython .gu { color: #800080; font-weight: bold } /* Generic.Subheading */\n",
       ".cython .gt { color: #04D } /* Generic.Traceback */\n",
       ".cython .kc { color: #008000; font-weight: bold } /* Keyword.Constant */\n",
       ".cython .kd { color: #008000; font-weight: bold } /* Keyword.Declaration */\n",
       ".cython .kn { color: #008000; font-weight: bold } /* Keyword.Namespace */\n",
       ".cython .kp { color: #008000 } /* Keyword.Pseudo */\n",
       ".cython .kr { color: #008000; font-weight: bold } /* Keyword.Reserved */\n",
       ".cython .kt { color: #B00040 } /* Keyword.Type */\n",
       ".cython .m { color: #666 } /* Literal.Number */\n",
       ".cython .s { color: #BA2121 } /* Literal.String */\n",
       ".cython .na { color: #687822 } /* Name.Attribute */\n",
       ".cython .nb { color: #008000 } /* Name.Builtin */\n",
       ".cython .nc { color: #00F; font-weight: bold } /* Name.Class */\n",
       ".cython .no { color: #800 } /* Name.Constant */\n",
       ".cython .nd { color: #A2F } /* Name.Decorator */\n",
       ".cython .ni { color: #717171; font-weight: bold } /* Name.Entity */\n",
       ".cython .ne { color: #CB3F38; font-weight: bold } /* Name.Exception */\n",
       ".cython .nf { color: #00F } /* Name.Function */\n",
       ".cython .nl { color: #767600 } /* Name.Label */\n",
       ".cython .nn { color: #00F; font-weight: bold } /* Name.Namespace */\n",
       ".cython .nt { color: #008000; font-weight: bold } /* Name.Tag */\n",
       ".cython .nv { color: #19177C } /* Name.Variable */\n",
       ".cython .ow { color: #A2F; font-weight: bold } /* Operator.Word */\n",
       ".cython .w { color: #BBB } /* Text.Whitespace */\n",
       ".cython .mb { color: #666 } /* Literal.Number.Bin */\n",
       ".cython .mf { color: #666 } /* Literal.Number.Float */\n",
       ".cython .mh { color: #666 } /* Literal.Number.Hex */\n",
       ".cython .mi { color: #666 } /* Literal.Number.Integer */\n",
       ".cython .mo { color: #666 } /* Literal.Number.Oct */\n",
       ".cython .sa { color: #BA2121 } /* Literal.String.Affix */\n",
       ".cython .sb { color: #BA2121 } /* Literal.String.Backtick */\n",
       ".cython .sc { color: #BA2121 } /* Literal.String.Char */\n",
       ".cython .dl { color: #BA2121 } /* Literal.String.Delimiter */\n",
       ".cython .sd { color: #BA2121; font-style: italic } /* Literal.String.Doc */\n",
       ".cython .s2 { color: #BA2121 } /* Literal.String.Double */\n",
       ".cython .se { color: #AA5D1F; font-weight: bold } /* Literal.String.Escape */\n",
       ".cython .sh { color: #BA2121 } /* Literal.String.Heredoc */\n",
       ".cython .si { color: #A45A77; font-weight: bold } /* Literal.String.Interpol */\n",
       ".cython .sx { color: #008000 } /* Literal.String.Other */\n",
       ".cython .sr { color: #A45A77 } /* Literal.String.Regex */\n",
       ".cython .s1 { color: #BA2121 } /* Literal.String.Single */\n",
       ".cython .ss { color: #19177C } /* Literal.String.Symbol */\n",
       ".cython .bp { color: #008000 } /* Name.Builtin.Pseudo */\n",
       ".cython .fm { color: #00F } /* Name.Function.Magic */\n",
       ".cython .vc { color: #19177C } /* Name.Variable.Class */\n",
       ".cython .vg { color: #19177C } /* Name.Variable.Global */\n",
       ".cython .vi { color: #19177C } /* Name.Variable.Instance */\n",
       ".cython .vm { color: #19177C } /* Name.Variable.Magic */\n",
       ".cython .il { color: #666 } /* Literal.Number.Integer.Long */\n",
       "    </style>\n",
       "</head>\n",
       "<body class=\"cython\">\n",
       "<p><span style=\"border-bottom: solid 1px grey;\">Generated by Cython 3.0.12</span></p>\n",
       "<p>\n",
       "    <span style=\"background-color: #FFFF00\">Yellow lines</span> hint at Python interaction.<br />\n",
       "    Click on a line that starts with a \"<code>+</code>\" to see the C code that Cython generated for it.\n",
       "</p>\n",
       "<div class=\"cython\"><pre class=\"cython line score-0\">&#xA0;<span class=\"\">01</span>: </pre>\n",
       "<pre class=\"cython line score-8\" onclick=\"(function(s){s.display=s.display==='block'?'none':'block'})(this.nextElementSibling.style)\">+<span class=\"\">02</span>: <span class=\"k\">cimport</span><span class=\"w\"> </span><span class=\"nn\">cython</span></pre>\n",
       "<pre class='cython code score-8 '>  __pyx_t_2 = <span class='pyx_c_api'>__Pyx_PyDict_NewPresized</span>(0);<span class='error_goto'> if (unlikely(!__pyx_t_2)) __PYX_ERR(0, 2, __pyx_L1_error)</span>\n",
       "  <span class='refnanny'>__Pyx_GOTREF</span>(__pyx_t_2);\n",
       "  if (<span class='py_c_api'>PyDict_SetItem</span>(__pyx_d, __pyx_n_s_test, __pyx_t_2) &lt; 0) <span class='error_goto'>__PYX_ERR(0, 2, __pyx_L1_error)</span>\n",
       "  <span class='pyx_macro_api'>__Pyx_DECREF</span>(__pyx_t_2); __pyx_t_2 = 0;\n",
       "</pre><pre class=\"cython line score-8\" onclick=\"(function(s){s.display=s.display==='block'?'none':'block'})(this.nextElementSibling.style)\">+<span class=\"\">03</span>: <span class=\"k\">import</span><span class=\"w\"> </span><span class=\"nn\">numpy</span><span class=\"w\"> </span><span class=\"k\">as</span><span class=\"w\"> </span><span class=\"nn\">np</span></pre>\n",
       "<pre class='cython code score-8 '>  __pyx_t_2 = <span class='pyx_c_api'>__Pyx_ImportDottedModule</span>(__pyx_n_s_numpy, NULL);<span class='error_goto'> if (unlikely(!__pyx_t_2)) __PYX_ERR(0, 3, __pyx_L1_error)</span>\n",
       "  <span class='refnanny'>__Pyx_GOTREF</span>(__pyx_t_2);\n",
       "  if (<span class='py_c_api'>PyDict_SetItem</span>(__pyx_d, __pyx_n_s_np, __pyx_t_2) &lt; 0) <span class='error_goto'>__PYX_ERR(0, 3, __pyx_L1_error)</span>\n",
       "  <span class='pyx_macro_api'>__Pyx_DECREF</span>(__pyx_t_2); __pyx_t_2 = 0;\n",
       "</pre><pre class=\"cython line score-0\">&#xA0;<span class=\"\">04</span>: <span class=\"k\">cimport</span><span class=\"w\"> </span><span class=\"nn\">numpy</span><span class=\"w\"> </span><span class=\"k\">as</span><span class=\"w\"> </span><span class=\"nn\">np</span></pre>\n",
       "<pre class=\"cython line score-0\">&#xA0;<span class=\"\">05</span>: <span class=\"k\">from</span><span class=\"w\"> </span><span class=\"nn\">libc.stdlib</span><span class=\"w\"> </span><span class=\"k\">cimport</span> <span class=\"n\">malloc</span><span class=\"p\">,</span> <span class=\"n\">free</span></pre>\n",
       "<pre class=\"cython line score-0\">&#xA0;<span class=\"\">06</span>: </pre>\n",
       "<pre class=\"cython line score-92\" onclick=\"(function(s){s.display=s.display==='block'?'none':'block'})(this.nextElementSibling.style)\">+<span class=\"\">07</span>: <span class=\"nd\">@cython</span><span class=\"o\">.</span><span class=\"n\">boundscheck</span><span class=\"p\">(</span><span class=\"bp\">False</span><span class=\"p\">)</span></pre>\n",
       "<pre class='cython code score-92 '>/* Python wrapper */\n",
       "static PyObject *__pyx_pw_54_cython_magic_b1602cea9973f2be8d54a3ed990b83fdf01b25c6_1rolling_mean_v8(PyObject *__pyx_self, \n",
       "#if CYTHON_METH_FASTCALL\n",
       "PyObject *const *__pyx_args, Py_ssize_t __pyx_nargs, PyObject *__pyx_kwds\n",
       "#else\n",
       "PyObject *__pyx_args, PyObject *__pyx_kwds\n",
       "#endif\n",
       "); /*proto*/\n",
       "static PyMethodDef __pyx_mdef_54_cython_magic_b1602cea9973f2be8d54a3ed990b83fdf01b25c6_1rolling_mean_v8 = {\"rolling_mean_v8\", (PyCFunction)(void*)(__Pyx_PyCFunction_FastCallWithKeywords)__pyx_pw_54_cython_magic_b1602cea9973f2be8d54a3ed990b83fdf01b25c6_1rolling_mean_v8, __Pyx_METH_FASTCALL|METH_KEYWORDS, 0};\n",
       "static PyObject *__pyx_pw_54_cython_magic_b1602cea9973f2be8d54a3ed990b83fdf01b25c6_1rolling_mean_v8(PyObject *__pyx_self, \n",
       "#if CYTHON_METH_FASTCALL\n",
       "PyObject *const *__pyx_args, Py_ssize_t __pyx_nargs, PyObject *__pyx_kwds\n",
       "#else\n",
       "PyObject *__pyx_args, PyObject *__pyx_kwds\n",
       "#endif\n",
       ") {\n",
       "  PyArrayObject *__pyx_v_l = 0;\n",
       "  int __pyx_v_k;\n",
       "  #if !CYTHON_METH_FASTCALL\n",
       "  CYTHON_UNUSED Py_ssize_t __pyx_nargs;\n",
       "  #endif\n",
       "  CYTHON_UNUSED PyObject *const *__pyx_kwvalues;\n",
       "  PyObject *__pyx_r = 0;\n",
       "  <span class='refnanny'>__Pyx_RefNannyDeclarations</span>\n",
       "  <span class='refnanny'>__Pyx_RefNannySetupContext</span>(\"rolling_mean_v8 (wrapper)\", 0);\n",
       "  #if !CYTHON_METH_FASTCALL\n",
       "  #if CYTHON_ASSUME_SAFE_MACROS\n",
       "  __pyx_nargs = <span class='py_macro_api'>PyTuple_GET_SIZE</span>(__pyx_args);\n",
       "  #else\n",
       "  __pyx_nargs = <span class='py_c_api'>PyTuple_Size</span>(__pyx_args); if (unlikely(__pyx_nargs &lt; 0)) return NULL;\n",
       "  #endif\n",
       "  #endif\n",
       "  __pyx_kwvalues = <span class='pyx_c_api'>__Pyx_KwValues_FASTCALL</span>(__pyx_args, __pyx_nargs);\n",
       "  {\n",
       "    PyObject **__pyx_pyargnames[] = {&amp;__pyx_n_s_l,&amp;__pyx_n_s_k,0};\n",
       "  PyObject* values[2] = {0,0};\n",
       "    if (__pyx_kwds) {\n",
       "      Py_ssize_t kw_args;\n",
       "      switch (__pyx_nargs) {\n",
       "        case  2: values[1] = <span class='pyx_c_api'>__Pyx_Arg_FASTCALL</span>(__pyx_args, 1);\n",
       "        CYTHON_FALLTHROUGH;\n",
       "        case  1: values[0] = <span class='pyx_c_api'>__Pyx_Arg_FASTCALL</span>(__pyx_args, 0);\n",
       "        CYTHON_FALLTHROUGH;\n",
       "        case  0: break;\n",
       "        default: goto __pyx_L5_argtuple_error;\n",
       "      }\n",
       "      kw_args = <span class='pyx_c_api'>__Pyx_NumKwargs_FASTCALL</span>(__pyx_kwds);\n",
       "      switch (__pyx_nargs) {\n",
       "        case  0:\n",
       "        if (likely((values[0] = <span class='pyx_c_api'>__Pyx_GetKwValue_FASTCALL</span>(__pyx_kwds, __pyx_kwvalues, __pyx_n_s_l)) != 0)) {\n",
       "          (void)<span class='pyx_c_api'>__Pyx_Arg_NewRef_FASTCALL</span>(values[0]);\n",
       "          kw_args--;\n",
       "        }\n",
       "        else if (unlikely(<span class='py_c_api'>PyErr_Occurred</span>())) <span class='error_goto'>__PYX_ERR(0, 7, __pyx_L3_error)</span>\n",
       "        else goto __pyx_L5_argtuple_error;\n",
       "        CYTHON_FALLTHROUGH;\n",
       "        case  1:\n",
       "        if (likely((values[1] = <span class='pyx_c_api'>__Pyx_GetKwValue_FASTCALL</span>(__pyx_kwds, __pyx_kwvalues, __pyx_n_s_k)) != 0)) {\n",
       "          (void)<span class='pyx_c_api'>__Pyx_Arg_NewRef_FASTCALL</span>(values[1]);\n",
       "          kw_args--;\n",
       "        }\n",
       "        else if (unlikely(<span class='py_c_api'>PyErr_Occurred</span>())) <span class='error_goto'>__PYX_ERR(0, 7, __pyx_L3_error)</span>\n",
       "        else {\n",
       "          <span class='pyx_c_api'>__Pyx_RaiseArgtupleInvalid</span>(\"rolling_mean_v8\", 1, 2, 2, 1); <span class='error_goto'>__PYX_ERR(0, 7, __pyx_L3_error)</span>\n",
       "        }\n",
       "      }\n",
       "      if (unlikely(kw_args &gt; 0)) {\n",
       "        const Py_ssize_t kwd_pos_args = __pyx_nargs;\n",
       "        if (unlikely(<span class='pyx_c_api'>__Pyx_ParseOptionalKeywords</span>(__pyx_kwds, __pyx_kwvalues, __pyx_pyargnames, 0, values + 0, kwd_pos_args, \"rolling_mean_v8\") &lt; 0)) <span class='error_goto'>__PYX_ERR(0, 7, __pyx_L3_error)</span>\n",
       "      }\n",
       "    } else if (unlikely(__pyx_nargs != 2)) {\n",
       "      goto __pyx_L5_argtuple_error;\n",
       "    } else {\n",
       "      values[0] = <span class='pyx_c_api'>__Pyx_Arg_FASTCALL</span>(__pyx_args, 0);\n",
       "      values[1] = <span class='pyx_c_api'>__Pyx_Arg_FASTCALL</span>(__pyx_args, 1);\n",
       "    }\n",
       "    __pyx_v_l = ((PyArrayObject *)values[0]);\n",
       "    __pyx_v_k = <span class='pyx_c_api'>__Pyx_PyInt_As_int</span>(values[1]); if (unlikely((__pyx_v_k == (int)-1) &amp;&amp; <span class='py_c_api'>PyErr_Occurred</span>())) <span class='error_goto'>__PYX_ERR(0, 10, __pyx_L3_error)</span>\n",
       "  }\n",
       "  goto __pyx_L6_skip;\n",
       "  __pyx_L5_argtuple_error:;\n",
       "  <span class='pyx_c_api'>__Pyx_RaiseArgtupleInvalid</span>(\"rolling_mean_v8\", 1, 2, 2, __pyx_nargs); <span class='error_goto'>__PYX_ERR(0, 7, __pyx_L3_error)</span>\n",
       "  __pyx_L6_skip:;\n",
       "  goto __pyx_L4_argument_unpacking_done;\n",
       "  __pyx_L3_error:;\n",
       "  {\n",
       "    Py_ssize_t __pyx_temp;\n",
       "    for (__pyx_temp=0; __pyx_temp &lt; (Py_ssize_t)(sizeof(values)/sizeof(values[0])); ++__pyx_temp) {\n",
       "      <span class='pyx_c_api'>__Pyx_Arg_XDECREF_FASTCALL</span>(values[__pyx_temp]);\n",
       "    }\n",
       "  }\n",
       "  <span class='pyx_c_api'>__Pyx_AddTraceback</span>(\"_cython_magic_b1602cea9973f2be8d54a3ed990b83fdf01b25c6.rolling_mean_v8\", __pyx_clineno, __pyx_lineno, __pyx_filename);\n",
       "  <span class='refnanny'>__Pyx_RefNannyFinishContext</span>();\n",
       "  return NULL;\n",
       "  __pyx_L4_argument_unpacking_done:;\n",
       "  if (unlikely(!<span class='pyx_c_api'>__Pyx_ArgTypeTest</span>(((PyObject *)__pyx_v_l), __pyx_ptype_5numpy_ndarray, 1, \"l\", 0))) <span class='error_goto'>__PYX_ERR(0, 10, __pyx_L1_error)</span>\n",
       "  __pyx_r = __pyx_pf_54_cython_magic_b1602cea9973f2be8d54a3ed990b83fdf01b25c6_rolling_mean_v8(__pyx_self, __pyx_v_l, __pyx_v_k);\n",
       "  int __pyx_lineno = 0;\n",
       "  const char *__pyx_filename = NULL;\n",
       "  int __pyx_clineno = 0;\n",
       "\n",
       "  /* function exit code */\n",
       "  goto __pyx_L0;\n",
       "  __pyx_L1_error:;\n",
       "  __pyx_r = NULL;\n",
       "  __pyx_L0:;\n",
       "  {\n",
       "    Py_ssize_t __pyx_temp;\n",
       "    for (__pyx_temp=0; __pyx_temp &lt; (Py_ssize_t)(sizeof(values)/sizeof(values[0])); ++__pyx_temp) {\n",
       "      <span class='pyx_c_api'>__Pyx_Arg_XDECREF_FASTCALL</span>(values[__pyx_temp]);\n",
       "    }\n",
       "  }\n",
       "  <span class='refnanny'>__Pyx_RefNannyFinishContext</span>();\n",
       "  return __pyx_r;\n",
       "}\n",
       "\n",
       "static PyObject *__pyx_pf_54_cython_magic_b1602cea9973f2be8d54a3ed990b83fdf01b25c6_rolling_mean_v8(CYTHON_UNUSED PyObject *__pyx_self, PyArrayObject *__pyx_v_l, int __pyx_v_k) {\n",
       "  int __pyx_v_i;\n",
       "  int __pyx_v_n;\n",
       "  double *__pyx_v_l_ptr;\n",
       "  double *__pyx_v_res_ptr;\n",
       "  double __pyx_v_s;\n",
       "  double __pyx_v_k_inv;\n",
       "  PyArrayObject *__pyx_v_res = 0;\n",
       "  __Pyx_LocalBuf_ND __pyx_pybuffernd_l;\n",
       "  __Pyx_Buffer __pyx_pybuffer_l;\n",
       "  __Pyx_LocalBuf_ND __pyx_pybuffernd_res;\n",
       "  __Pyx_Buffer __pyx_pybuffer_res;\n",
       "  PyObject *__pyx_r = NULL;\n",
       "  __pyx_pybuffer_res.pybuffer.buf = NULL;\n",
       "  __pyx_pybuffer_res.refcount = 0;\n",
       "  __pyx_pybuffernd_res.data = NULL;\n",
       "  __pyx_pybuffernd_res.rcbuffer = &amp;__pyx_pybuffer_res;\n",
       "  __pyx_pybuffer_l.pybuffer.buf = NULL;\n",
       "  __pyx_pybuffer_l.refcount = 0;\n",
       "  __pyx_pybuffernd_l.data = NULL;\n",
       "  __pyx_pybuffernd_l.rcbuffer = &amp;__pyx_pybuffer_l;\n",
       "  {\n",
       "    __Pyx_BufFmt_StackElem __pyx_stack[1];\n",
       "    if (unlikely(<span class='pyx_c_api'>__Pyx_GetBufferAndValidate</span>(&amp;__pyx_pybuffernd_l.rcbuffer-&gt;pybuffer, (PyObject*)__pyx_v_l, &amp;__Pyx_TypeInfo_double, PyBUF_FORMAT| PyBUF_STRIDES, 1, 0, __pyx_stack) == -1)) <span class='error_goto'>__PYX_ERR(0, 7, __pyx_L1_error)</span>\n",
       "  }\n",
       "  __pyx_pybuffernd_l.diminfo[0].strides = __pyx_pybuffernd_l.rcbuffer-&gt;pybuffer.strides[0]; __pyx_pybuffernd_l.diminfo[0].shape = __pyx_pybuffernd_l.rcbuffer-&gt;pybuffer.shape[0];\n",
       "/* … */\n",
       "  /* function exit code */\n",
       "  __pyx_L1_error:;\n",
       "  <span class='pyx_macro_api'>__Pyx_XDECREF</span>(__pyx_t_1);\n",
       "  <span class='pyx_macro_api'>__Pyx_XDECREF</span>(__pyx_t_2);\n",
       "  <span class='pyx_macro_api'>__Pyx_XDECREF</span>(__pyx_t_3);\n",
       "  <span class='pyx_macro_api'>__Pyx_XDECREF</span>(__pyx_t_4);\n",
       "  <span class='pyx_macro_api'>__Pyx_XDECREF</span>(__pyx_t_5);\n",
       "  { PyObject *__pyx_type, *__pyx_value, *__pyx_tb;\n",
       "    __Pyx_PyThreadState_declare\n",
       "    __Pyx_PyThreadState_assign\n",
       "    <span class='pyx_c_api'>__Pyx_ErrFetch</span>(&amp;__pyx_type, &amp;__pyx_value, &amp;__pyx_tb);\n",
       "    <span class='pyx_c_api'>__Pyx_SafeReleaseBuffer</span>(&amp;__pyx_pybuffernd_l.rcbuffer-&gt;pybuffer);\n",
       "    <span class='pyx_c_api'>__Pyx_SafeReleaseBuffer</span>(&amp;__pyx_pybuffernd_res.rcbuffer-&gt;pybuffer);\n",
       "  <span class='pyx_c_api'>__Pyx_ErrRestore</span>(__pyx_type, __pyx_value, __pyx_tb);}\n",
       "  <span class='pyx_c_api'>__Pyx_AddTraceback</span>(\"_cython_magic_b1602cea9973f2be8d54a3ed990b83fdf01b25c6.rolling_mean_v8\", __pyx_clineno, __pyx_lineno, __pyx_filename);\n",
       "  __pyx_r = NULL;\n",
       "  goto __pyx_L2;\n",
       "  __pyx_L0:;\n",
       "  <span class='pyx_c_api'>__Pyx_SafeReleaseBuffer</span>(&amp;__pyx_pybuffernd_l.rcbuffer-&gt;pybuffer);\n",
       "  <span class='pyx_c_api'>__Pyx_SafeReleaseBuffer</span>(&amp;__pyx_pybuffernd_res.rcbuffer-&gt;pybuffer);\n",
       "  __pyx_L2:;\n",
       "  <span class='pyx_macro_api'>__Pyx_XDECREF</span>((PyObject *)__pyx_v_res);\n",
       "  <span class='refnanny'>__Pyx_XGIVEREF</span>(__pyx_r);\n",
       "  <span class='refnanny'>__Pyx_RefNannyFinishContext</span>();\n",
       "  return __pyx_r;\n",
       "}\n",
       "/* … */\n",
       "  __pyx_tuple__4 = <span class='py_c_api'>PyTuple_Pack</span>(9, __pyx_n_s_l, __pyx_n_s_k, __pyx_n_s_i, __pyx_n_s_n, __pyx_n_s_l_ptr, __pyx_n_s_res_ptr, __pyx_n_s_s, __pyx_n_s_k_inv, __pyx_n_s_res);<span class='error_goto'> if (unlikely(!__pyx_tuple__4)) __PYX_ERR(0, 7, __pyx_L1_error)</span>\n",
       "  <span class='refnanny'>__Pyx_GOTREF</span>(__pyx_tuple__4);\n",
       "  <span class='refnanny'>__Pyx_GIVEREF</span>(__pyx_tuple__4);\n",
       "/* … */\n",
       "  __pyx_t_2 = <span class='pyx_c_api'>__Pyx_CyFunction_New</span>(&amp;__pyx_mdef_54_cython_magic_b1602cea9973f2be8d54a3ed990b83fdf01b25c6_1rolling_mean_v8, 0, __pyx_n_s_rolling_mean_v8, NULL, __pyx_n_s_cython_magic_b1602cea9973f2be8d, __pyx_d, ((PyObject *)__pyx_codeobj__5));<span class='error_goto'> if (unlikely(!__pyx_t_2)) __PYX_ERR(0, 7, __pyx_L1_error)</span>\n",
       "  <span class='refnanny'>__Pyx_GOTREF</span>(__pyx_t_2);\n",
       "  if (<span class='py_c_api'>PyDict_SetItem</span>(__pyx_d, __pyx_n_s_rolling_mean_v8, __pyx_t_2) &lt; 0) <span class='error_goto'>__PYX_ERR(0, 7, __pyx_L1_error)</span>\n",
       "  <span class='pyx_macro_api'>__Pyx_DECREF</span>(__pyx_t_2); __pyx_t_2 = 0;\n",
       "</pre><pre class=\"cython line score-0\">&#xA0;<span class=\"\">08</span>: <span class=\"nd\">@cython</span><span class=\"o\">.</span><span class=\"n\">wraparound</span><span class=\"p\">(</span><span class=\"bp\">False</span><span class=\"p\">)</span></pre>\n",
       "<pre class=\"cython line score-0\">&#xA0;<span class=\"\">09</span>: <span class=\"nd\">@cython</span><span class=\"o\">.</span><span class=\"n\">cdivision</span><span class=\"p\">(</span><span class=\"bp\">True</span><span class=\"p\">)</span></pre>\n",
       "<pre class=\"cython line score-0\">&#xA0;<span class=\"\">10</span>: <span class=\"k\">def</span><span class=\"w\"> </span><span class=\"nf\">rolling_mean_v8</span><span class=\"p\">(</span><span class=\"n\">np</span><span class=\"o\">.</span><span class=\"n\">ndarray</span><span class=\"p\">[</span><span class=\"n\">double</span><span class=\"p\">,</span> <span class=\"n\">ndim</span><span class=\"o\">=</span><span class=\"mf\">1</span><span class=\"p\">]</span> <span class=\"n\">l</span><span class=\"p\">,</span> <span class=\"nb\">int</span> <span class=\"n\">k</span><span class=\"p\">):</span></pre>\n",
       "<pre class=\"cython line score-0\">&#xA0;<span class=\"\">11</span>:     <span class=\"k\">cdef</span><span class=\"p\">:</span></pre>\n",
       "<pre class=\"cython line score-0\" onclick=\"(function(s){s.display=s.display==='block'?'none':'block'})(this.nextElementSibling.style)\">+<span class=\"\">12</span>:         <span class=\"nb\">int</span> <span class=\"n\">i</span><span class=\"p\">,</span> <span class=\"n\">n</span> <span class=\"o\">=</span> <span class=\"n\">l</span><span class=\"o\">.</span><span class=\"n\">shape</span><span class=\"p\">[</span><span class=\"mf\">0</span><span class=\"p\">]</span></pre>\n",
       "<pre class='cython code score-0 '>  __pyx_v_n = (__pyx_f_5numpy_7ndarray_5shape_shape(((PyArrayObject *)__pyx_v_l))[0]);\n",
       "</pre><pre class=\"cython line score-0\" onclick=\"(function(s){s.display=s.display==='block'?'none':'block'})(this.nextElementSibling.style)\">+<span class=\"\">13</span>:         <span class=\"n\">double</span><span class=\"o\">*</span> <span class=\"n\">l_ptr</span> <span class=\"o\">=</span> <span class=\"o\">&lt;</span><span class=\"n\">double</span><span class=\"o\">*&gt;</span><span class=\"n\">l</span><span class=\"o\">.</span><span class=\"n\">data</span></pre>\n",
       "<pre class='cython code score-0 '>  __pyx_v_l_ptr = ((double *)__pyx_f_5numpy_7ndarray_4data_data(((PyArrayObject *)__pyx_v_l)));\n",
       "</pre><pre class=\"cython line score-0\">&#xA0;<span class=\"\">14</span>:         <span class=\"n\">double</span><span class=\"o\">*</span> <span class=\"n\">res_ptr</span></pre>\n",
       "<pre class=\"cython line score-0\" onclick=\"(function(s){s.display=s.display==='block'?'none':'block'})(this.nextElementSibling.style)\">+<span class=\"\">15</span>:         <span class=\"n\">double</span> <span class=\"n\">s</span> <span class=\"o\">=</span> <span class=\"mf\">0.0</span></pre>\n",
       "<pre class='cython code score-0 '>  __pyx_v_s = 0.0;\n",
       "</pre><pre class=\"cython line score-0\" onclick=\"(function(s){s.display=s.display==='block'?'none':'block'})(this.nextElementSibling.style)\">+<span class=\"\">16</span>:         <span class=\"n\">double</span> <span class=\"n\">k_inv</span> <span class=\"o\">=</span> <span class=\"mf\">1.0</span> <span class=\"o\">/</span> <span class=\"n\">k</span></pre>\n",
       "<pre class='cython code score-0 '>  __pyx_v_k_inv = (1.0 / ((double)__pyx_v_k));\n",
       "</pre><pre class=\"cython line score-37\" onclick=\"(function(s){s.display=s.display==='block'?'none':'block'})(this.nextElementSibling.style)\">+<span class=\"\">17</span>:         <span class=\"n\">np</span><span class=\"o\">.</span><span class=\"n\">ndarray</span><span class=\"p\">[</span><span class=\"n\">double</span><span class=\"p\">,</span> <span class=\"n\">ndim</span><span class=\"o\">=</span><span class=\"mf\">1</span><span class=\"p\">]</span> <span class=\"n\">res</span> <span class=\"o\">=</span> <span class=\"n\">np</span><span class=\"o\">.</span><span class=\"n\">empty</span><span class=\"p\">(</span><span class=\"n\">n</span><span class=\"p\">,</span> <span class=\"n\">dtype</span><span class=\"o\">=</span><span class=\"n\">np</span><span class=\"o\">.</span><span class=\"n\">float64</span><span class=\"p\">)</span></pre>\n",
       "<pre class='cython code score-37 '>  <span class='pyx_c_api'>__Pyx_GetModuleGlobalName</span>(__pyx_t_1, __pyx_n_s_np);<span class='error_goto'> if (unlikely(!__pyx_t_1)) __PYX_ERR(0, 17, __pyx_L1_error)</span>\n",
       "  <span class='refnanny'>__Pyx_GOTREF</span>(__pyx_t_1);\n",
       "  __pyx_t_2 = <span class='pyx_c_api'>__Pyx_PyObject_GetAttrStr</span>(__pyx_t_1, __pyx_n_s_empty);<span class='error_goto'> if (unlikely(!__pyx_t_2)) __PYX_ERR(0, 17, __pyx_L1_error)</span>\n",
       "  <span class='refnanny'>__Pyx_GOTREF</span>(__pyx_t_2);\n",
       "  <span class='pyx_macro_api'>__Pyx_DECREF</span>(__pyx_t_1); __pyx_t_1 = 0;\n",
       "  __pyx_t_1 = <span class='pyx_c_api'>__Pyx_PyInt_From_int</span>(__pyx_v_n);<span class='error_goto'> if (unlikely(!__pyx_t_1)) __PYX_ERR(0, 17, __pyx_L1_error)</span>\n",
       "  <span class='refnanny'>__Pyx_GOTREF</span>(__pyx_t_1);\n",
       "  __pyx_t_3 = <span class='py_c_api'>PyTuple_New</span>(1);<span class='error_goto'> if (unlikely(!__pyx_t_3)) __PYX_ERR(0, 17, __pyx_L1_error)</span>\n",
       "  <span class='refnanny'>__Pyx_GOTREF</span>(__pyx_t_3);\n",
       "  <span class='refnanny'>__Pyx_GIVEREF</span>(__pyx_t_1);\n",
       "  if (<span class='pyx_c_api'>__Pyx_PyTuple_SET_ITEM</span>(__pyx_t_3, 0, __pyx_t_1)) <span class='error_goto'>__PYX_ERR(0, 17, __pyx_L1_error)</span>;\n",
       "  __pyx_t_1 = 0;\n",
       "  __pyx_t_1 = <span class='pyx_c_api'>__Pyx_PyDict_NewPresized</span>(1);<span class='error_goto'> if (unlikely(!__pyx_t_1)) __PYX_ERR(0, 17, __pyx_L1_error)</span>\n",
       "  <span class='refnanny'>__Pyx_GOTREF</span>(__pyx_t_1);\n",
       "  <span class='pyx_c_api'>__Pyx_GetModuleGlobalName</span>(__pyx_t_4, __pyx_n_s_np);<span class='error_goto'> if (unlikely(!__pyx_t_4)) __PYX_ERR(0, 17, __pyx_L1_error)</span>\n",
       "  <span class='refnanny'>__Pyx_GOTREF</span>(__pyx_t_4);\n",
       "  __pyx_t_5 = <span class='pyx_c_api'>__Pyx_PyObject_GetAttrStr</span>(__pyx_t_4, __pyx_n_s_float64);<span class='error_goto'> if (unlikely(!__pyx_t_5)) __PYX_ERR(0, 17, __pyx_L1_error)</span>\n",
       "  <span class='refnanny'>__Pyx_GOTREF</span>(__pyx_t_5);\n",
       "  <span class='pyx_macro_api'>__Pyx_DECREF</span>(__pyx_t_4); __pyx_t_4 = 0;\n",
       "  if (<span class='py_c_api'>PyDict_SetItem</span>(__pyx_t_1, __pyx_n_s_dtype, __pyx_t_5) &lt; 0) <span class='error_goto'>__PYX_ERR(0, 17, __pyx_L1_error)</span>\n",
       "  <span class='pyx_macro_api'>__Pyx_DECREF</span>(__pyx_t_5); __pyx_t_5 = 0;\n",
       "  __pyx_t_5 = <span class='pyx_c_api'>__Pyx_PyObject_Call</span>(__pyx_t_2, __pyx_t_3, __pyx_t_1);<span class='error_goto'> if (unlikely(!__pyx_t_5)) __PYX_ERR(0, 17, __pyx_L1_error)</span>\n",
       "  <span class='refnanny'>__Pyx_GOTREF</span>(__pyx_t_5);\n",
       "  <span class='pyx_macro_api'>__Pyx_DECREF</span>(__pyx_t_2); __pyx_t_2 = 0;\n",
       "  <span class='pyx_macro_api'>__Pyx_DECREF</span>(__pyx_t_3); __pyx_t_3 = 0;\n",
       "  <span class='pyx_macro_api'>__Pyx_DECREF</span>(__pyx_t_1); __pyx_t_1 = 0;\n",
       "  if (!(likely(((__pyx_t_5) == Py_None) || likely(<span class='pyx_c_api'>__Pyx_TypeTest</span>(__pyx_t_5, __pyx_ptype_5numpy_ndarray))))) <span class='error_goto'>__PYX_ERR(0, 17, __pyx_L1_error)</span>\n",
       "  __pyx_t_6 = ((PyArrayObject *)__pyx_t_5);\n",
       "  {\n",
       "    __Pyx_BufFmt_StackElem __pyx_stack[1];\n",
       "    if (unlikely(<span class='pyx_c_api'>__Pyx_GetBufferAndValidate</span>(&amp;__pyx_pybuffernd_res.rcbuffer-&gt;pybuffer, (PyObject*)__pyx_t_6, &amp;__Pyx_TypeInfo_double, PyBUF_FORMAT| PyBUF_STRIDES, 1, 0, __pyx_stack) == -1)) {\n",
       "      __pyx_v_res = ((PyArrayObject *)Py_None); <span class='pyx_macro_api'>__Pyx_INCREF</span>(Py_None); __pyx_pybuffernd_res.rcbuffer-&gt;pybuffer.buf = NULL;\n",
       "      <span class='error_goto'>__PYX_ERR(0, 17, __pyx_L1_error)</span>\n",
       "    } else {__pyx_pybuffernd_res.diminfo[0].strides = __pyx_pybuffernd_res.rcbuffer-&gt;pybuffer.strides[0]; __pyx_pybuffernd_res.diminfo[0].shape = __pyx_pybuffernd_res.rcbuffer-&gt;pybuffer.shape[0];\n",
       "    }\n",
       "  }\n",
       "  __pyx_t_6 = 0;\n",
       "  __pyx_v_res = ((PyArrayObject *)__pyx_t_5);\n",
       "  __pyx_t_5 = 0;\n",
       "</pre><pre class=\"cython line score-0\">&#xA0;<span class=\"\">18</span>: </pre>\n",
       "<pre class=\"cython line score-0\" onclick=\"(function(s){s.display=s.display==='block'?'none':'block'})(this.nextElementSibling.style)\">+<span class=\"\">19</span>:     <span class=\"n\">res_ptr</span> <span class=\"o\">=</span> <span class=\"o\">&lt;</span><span class=\"n\">double</span><span class=\"o\">*&gt;</span><span class=\"n\">res</span><span class=\"o\">.</span><span class=\"n\">data</span></pre>\n",
       "<pre class='cython code score-0 '>  __pyx_v_res_ptr = ((double *)__pyx_f_5numpy_7ndarray_4data_data(((PyArrayObject *)__pyx_v_res)));\n",
       "</pre><pre class=\"cython line score-0\">&#xA0;<span class=\"\">20</span>: </pre>\n",
       "<pre class=\"cython line score-0\" onclick=\"(function(s){s.display=s.display==='block'?'none':'block'})(this.nextElementSibling.style)\">+<span class=\"\">21</span>:     <span class=\"k\">for</span> <span class=\"n\">i</span> <span class=\"ow\">in</span> <span class=\"nb\">range</span><span class=\"p\">(</span><span class=\"n\">k</span><span class=\"o\">-</span><span class=\"mf\">1</span><span class=\"p\">):</span></pre>\n",
       "<pre class='cython code score-0 '>  __pyx_t_7 = (__pyx_v_k - 1);\n",
       "  __pyx_t_8 = __pyx_t_7;\n",
       "  for (__pyx_t_9 = 0; __pyx_t_9 &lt; __pyx_t_8; __pyx_t_9+=1) {\n",
       "    __pyx_v_i = __pyx_t_9;\n",
       "</pre><pre class=\"cython line score-16\" onclick=\"(function(s){s.display=s.display==='block'?'none':'block'})(this.nextElementSibling.style)\">+<span class=\"\">22</span>:         <span class=\"n\">res_ptr</span><span class=\"p\">[</span><span class=\"n\">i</span><span class=\"p\">]</span> <span class=\"o\">=</span> <span class=\"n\">np</span><span class=\"o\">.</span><span class=\"n\">nan</span></pre>\n",
       "<pre class='cython code score-16 '>    <span class='pyx_c_api'>__Pyx_GetModuleGlobalName</span>(__pyx_t_5, __pyx_n_s_np);<span class='error_goto'> if (unlikely(!__pyx_t_5)) __PYX_ERR(0, 22, __pyx_L1_error)</span>\n",
       "    <span class='refnanny'>__Pyx_GOTREF</span>(__pyx_t_5);\n",
       "    __pyx_t_1 = <span class='pyx_c_api'>__Pyx_PyObject_GetAttrStr</span>(__pyx_t_5, __pyx_n_s_nan);<span class='error_goto'> if (unlikely(!__pyx_t_1)) __PYX_ERR(0, 22, __pyx_L1_error)</span>\n",
       "    <span class='refnanny'>__Pyx_GOTREF</span>(__pyx_t_1);\n",
       "    <span class='pyx_macro_api'>__Pyx_DECREF</span>(__pyx_t_5); __pyx_t_5 = 0;\n",
       "    __pyx_t_10 = __pyx_<span class='py_c_api'>PyFloat_AsDouble</span>(__pyx_t_1); if (unlikely((__pyx_t_10 == (double)-1) &amp;&amp; <span class='py_c_api'>PyErr_Occurred</span>())) <span class='error_goto'>__PYX_ERR(0, 22, __pyx_L1_error)</span>\n",
       "    <span class='pyx_macro_api'>__Pyx_DECREF</span>(__pyx_t_1); __pyx_t_1 = 0;\n",
       "    (__pyx_v_res_ptr[__pyx_v_i]) = __pyx_t_10;\n",
       "  }\n",
       "</pre><pre class=\"cython line score-0\">&#xA0;<span class=\"\">23</span>: </pre>\n",
       "<pre class=\"cython line score-0\" onclick=\"(function(s){s.display=s.display==='block'?'none':'block'})(this.nextElementSibling.style)\">+<span class=\"\">24</span>:     <span class=\"k\">for</span> <span class=\"n\">i</span> <span class=\"ow\">in</span> <span class=\"nb\">range</span><span class=\"p\">(</span><span class=\"n\">k</span><span class=\"p\">):</span></pre>\n",
       "<pre class='cython code score-0 '>  __pyx_t_9 = __pyx_v_k;\n",
       "  __pyx_t_11 = __pyx_t_9;\n",
       "  for (__pyx_t_12 = 0; __pyx_t_12 &lt; __pyx_t_11; __pyx_t_12+=1) {\n",
       "    __pyx_v_i = __pyx_t_12;\n",
       "</pre><pre class=\"cython line score-0\" onclick=\"(function(s){s.display=s.display==='block'?'none':'block'})(this.nextElementSibling.style)\">+<span class=\"\">25</span>:         <span class=\"n\">s</span> <span class=\"o\">+=</span> <span class=\"n\">l_ptr</span><span class=\"p\">[</span><span class=\"n\">i</span><span class=\"p\">]</span></pre>\n",
       "<pre class='cython code score-0 '>    __pyx_v_s = (__pyx_v_s + (__pyx_v_l_ptr[__pyx_v_i]));\n",
       "  }\n",
       "</pre><pre class=\"cython line score-0\">&#xA0;<span class=\"\">26</span>: </pre>\n",
       "<pre class=\"cython line score-0\" onclick=\"(function(s){s.display=s.display==='block'?'none':'block'})(this.nextElementSibling.style)\">+<span class=\"\">27</span>:     <span class=\"n\">res_ptr</span><span class=\"p\">[</span><span class=\"n\">k</span><span class=\"o\">-</span><span class=\"mf\">1</span><span class=\"p\">]</span> <span class=\"o\">=</span> <span class=\"n\">s</span> <span class=\"o\">*</span> <span class=\"n\">k_inv</span></pre>\n",
       "<pre class='cython code score-0 '>  (__pyx_v_res_ptr[(__pyx_v_k - 1)]) = (__pyx_v_s * __pyx_v_k_inv);\n",
       "</pre><pre class=\"cython line score-0\">&#xA0;<span class=\"\">28</span>: </pre>\n",
       "<pre class=\"cython line score-0\" onclick=\"(function(s){s.display=s.display==='block'?'none':'block'})(this.nextElementSibling.style)\">+<span class=\"\">29</span>:     <span class=\"k\">for</span> <span class=\"n\">i</span> <span class=\"ow\">in</span> <span class=\"nb\">range</span><span class=\"p\">(</span><span class=\"n\">k</span><span class=\"p\">,</span> <span class=\"n\">n</span><span class=\"p\">):</span></pre>\n",
       "<pre class='cython code score-0 '>  __pyx_t_9 = __pyx_v_n;\n",
       "  __pyx_t_11 = __pyx_t_9;\n",
       "  for (__pyx_t_12 = __pyx_v_k; __pyx_t_12 &lt; __pyx_t_11; __pyx_t_12+=1) {\n",
       "    __pyx_v_i = __pyx_t_12;\n",
       "</pre><pre class=\"cython line score-0\" onclick=\"(function(s){s.display=s.display==='block'?'none':'block'})(this.nextElementSibling.style)\">+<span class=\"\">30</span>:         <span class=\"n\">s</span> <span class=\"o\">+=</span> <span class=\"n\">l_ptr</span><span class=\"p\">[</span><span class=\"n\">i</span><span class=\"p\">]</span> <span class=\"o\">-</span> <span class=\"n\">l_ptr</span><span class=\"p\">[</span><span class=\"n\">i</span><span class=\"o\">-</span><span class=\"n\">k</span><span class=\"p\">]</span></pre>\n",
       "<pre class='cython code score-0 '>    __pyx_v_s = (__pyx_v_s + ((__pyx_v_l_ptr[__pyx_v_i]) - (__pyx_v_l_ptr[(__pyx_v_i - __pyx_v_k)])));\n",
       "</pre><pre class=\"cython line score-0\" onclick=\"(function(s){s.display=s.display==='block'?'none':'block'})(this.nextElementSibling.style)\">+<span class=\"\">31</span>:         <span class=\"n\">res_ptr</span><span class=\"p\">[</span><span class=\"n\">i</span><span class=\"p\">]</span> <span class=\"o\">=</span> <span class=\"n\">s</span> <span class=\"o\">*</span> <span class=\"n\">k_inv</span></pre>\n",
       "<pre class='cython code score-0 '>    (__pyx_v_res_ptr[__pyx_v_i]) = (__pyx_v_s * __pyx_v_k_inv);\n",
       "  }\n",
       "</pre><pre class=\"cython line score-0\">&#xA0;<span class=\"\">32</span>: </pre>\n",
       "<pre class=\"cython line score-2\" onclick=\"(function(s){s.display=s.display==='block'?'none':'block'})(this.nextElementSibling.style)\">+<span class=\"\">33</span>:     <span class=\"k\">return</span> <span class=\"n\">res</span></pre>\n",
       "<pre class='cython code score-2 '>  <span class='pyx_macro_api'>__Pyx_XDECREF</span>(__pyx_r);\n",
       "  <span class='pyx_macro_api'>__Pyx_INCREF</span>((PyObject *)__pyx_v_res);\n",
       "  __pyx_r = ((PyObject *)__pyx_v_res);\n",
       "  goto __pyx_L0;\n",
       "</pre></div></body></html>"
      ],
      "text/plain": [
       "<IPython.core.display.HTML object>"
      ]
     },
     "execution_count": 4,
     "metadata": {},
     "output_type": "execute_result"
    }
   ],
   "source": [
    "%%cython -a\n",
    "\n",
    "cimport cython\n",
    "import numpy as np\n",
    "cimport numpy as np\n",
    "from libc.stdlib cimport malloc, free\n",
    "\n",
    "@cython.boundscheck(False)\n",
    "@cython.wraparound(False)\n",
    "@cython.cdivision(True)\n",
    "def rolling_mean_v8(np.ndarray[double, ndim=1] l, int k):\n",
    "    cdef:\n",
    "        int i, n = l.shape[0]\n",
    "        double* l_ptr = <double*>l.data\n",
    "        double* res_ptr\n",
    "        double s = 0.0\n",
    "        double k_inv = 1.0 / k\n",
    "        np.ndarray[double, ndim=1] res = np.empty(n, dtype=np.float64)\n",
    "    \n",
    "    res_ptr = <double*>res.data\n",
    "    \n",
    "    for i in range(k-1):\n",
    "        res_ptr[i] = np.nan\n",
    "    \n",
    "    for i in range(k):\n",
    "        s += l_ptr[i]\n",
    "    \n",
    "    res_ptr[k-1] = s * k_inv\n",
    "    \n",
    "    for i in range(k, n):\n",
    "        s += l_ptr[i] - l_ptr[i-k]\n",
    "        res_ptr[i] = s * k_inv\n",
    "    \n",
    "    return res"
   ]
  },
  {
   "cell_type": "code",
   "execution_count": 5,
   "id": "3c6027b5-8174-43df-8986-36e4fafd1a93",
   "metadata": {},
   "outputs": [
    {
     "name": "stdout",
     "output_type": "stream",
     "text": [
      "443 ms ± 7.84 ms per loop (mean ± std. dev. of 7 runs, 1 loop each)\n"
     ]
    }
   ],
   "source": [
    "v = %timeit -o rolling_mean_v8(vals, WINDOW)\n",
    "results['v8'] = {\"name\": \"cython_ptr\", \"time\": v.average}"
   ]
  },
  {
   "cell_type": "code",
   "execution_count": 5,
   "id": "9f69862c-c5ca-47fe-b8f6-16a5a218989f",
   "metadata": {},
   "outputs": [],
   "source": [
    "df['v8'] = rolling_mean_v8(vals, WINDOW)"
   ]
  },
  {
   "cell_type": "code",
   "execution_count": 7,
   "id": "45f75b46",
   "metadata": {},
   "outputs": [
    {
     "data": {
      "text/plain": [
       "array([    nan,     nan,     nan, ..., 0.4867 , 0.48652, 0.48736],\n",
       "      shape=(100000000,))"
      ]
     },
     "execution_count": 7,
     "metadata": {},
     "output_type": "execute_result"
    }
   ],
   "source": [
    "rolling_mean_v8(vals, WINDOW)"
   ]
  },
  {
   "cell_type": "markdown",
   "id": "fa0aba5f-5fbe-4c59-9388-34d032045cdd",
   "metadata": {},
   "source": [
    "# rst_wnd version using pyo3, ndarray, numpy and maturin"
   ]
  },
  {
   "cell_type": "markdown",
   "id": "20781e5b-efc3-4b5e-bb89-f4d74ff22258",
   "metadata": {},
   "source": [
    "## Safe"
   ]
  },
  {
   "cell_type": "code",
   "execution_count": 8,
   "id": "e84133cd-783d-4b16-b5a4-c0367d03e7b7",
   "metadata": {},
   "outputs": [
    {
     "name": "stdout",
     "output_type": "stream",
     "text": [
      "464 ms ± 10.5 ms per loop (mean ± std. dev. of 7 runs, 1 loop each)\n"
     ]
    }
   ],
   "source": [
    "from rst_wnd import rolling_mean_v9_safe\n",
    "\n",
    "v = %timeit -o rolling_mean_v9_safe(vals, WINDOW)\n",
    "df['v9_safe'] = rolling_mean_v9_safe(vals, WINDOW)\n",
    "results['v9_safe'] = {\"name\": \"rst_wnd_safe\", \"time\": v.average}"
   ]
  },
  {
   "cell_type": "markdown",
   "id": "c79438f3-d459-4301-b84d-3653e3f79769",
   "metadata": {},
   "source": [
    "## Raw Pointers"
   ]
  },
  {
   "cell_type": "code",
   "execution_count": null,
   "id": "73d1561b-03d0-4568-b5d1-1af99ae2200d",
   "metadata": {},
   "outputs": [],
   "source": [
    "from rst_wnd import rolling_mean_v9_raw_pointers\n",
    "v = %timeit -o rolling_mean_v9_raw_pointers(vals, WINDOW)\n",
    "\n",
    "df['v9_raw_pointers'] = rolling_mean_v9_raw_pointers(vals, WINDOW)\n",
    "results['v9_raw_pointers'] = {\"name\": \"rst_wnd_raw_pointers\", \"time\": v.average}"
   ]
  },
  {
   "cell_type": "markdown",
   "id": "dd77ff53-a59a-4fd7-87ce-28e2ad1a3895",
   "metadata": {},
   "source": [
    "## Portable SIMD"
   ]
  },
  {
   "cell_type": "code",
   "execution_count": null,
   "id": "578371cd-ced3-4a91-9483-41289d1fd06c",
   "metadata": {},
   "outputs": [],
   "source": [
    "from rst_wnd import rolling_mean_v9_portable_simd\n",
    "v = %timeit -o rolling_mean_v9_portable_simd(vals, WINDOW)\n",
    "\n",
    "df['v9_portable_simd'] = rolling_mean_v9_portable_simd(vals, WINDOW)\n",
    "results['v9_portable_simd'] = {\"name\": \"rst_wnd_portable_simd\", \"time\": v.average}"
   ]
  },
  {
   "cell_type": "markdown",
   "id": "cc684f14-b4e0-4ca8-92ec-5606409ebe88",
   "metadata": {},
   "source": [
    "## SIMD intrinsics"
   ]
  },
  {
   "cell_type": "code",
   "execution_count": null,
   "id": "15af3b00-929f-4ecf-bffb-b3bc0416adcf",
   "metadata": {},
   "outputs": [],
   "source": [
    "from rst_wnd import rolling_mean_v9_simd_intr\n",
    "v = %timeit -o rolling_mean_v9_simd_intr(vals, WINDOW)\n",
    "\n",
    "df['v9_simd_intr'] = rolling_mean_v9_simd_intr(vals, WINDOW)\n",
    "results['v9_simd_intr'] = {\"name\": \"rst_wnd_simd_intr\", \"time\": v.average}"
   ]
  },
  {
   "cell_type": "markdown",
   "id": "b93921cb-b112-4b7d-920e-15e5262c0795",
   "metadata": {},
   "source": [
    "# Results"
   ]
  },
  {
   "cell_type": "code",
   "execution_count": null,
   "id": "228523fc-0e17-4ec9-ac6b-f351f591c033",
   "metadata": {},
   "outputs": [],
   "source": [
    "df"
   ]
  },
  {
   "cell_type": "code",
   "execution_count": null,
   "id": "08757047-2fee-4367-853a-060c2535b2c9",
   "metadata": {},
   "outputs": [],
   "source": [
    "res_df = pd.DataFrame(results).T"
   ]
  },
  {
   "cell_type": "code",
   "execution_count": null,
   "id": "e6de6226-f1d2-42a4-bbe2-6dff5be82a2f",
   "metadata": {},
   "outputs": [],
   "source": [
    "res_df.time.astype(float)"
   ]
  },
  {
   "cell_type": "code",
   "execution_count": null,
   "id": "d55fec90-bd87-4fd9-9883-4ad666008b8c",
   "metadata": {},
   "outputs": [],
   "source": [
    "# Compute the pairwise ratio matrix\n",
    "import seaborn as sns\n",
    "import matplotlib.pyplot as plt\n",
    "import matplotlib.colors as mcolors\n",
    "res_df.time = res_df.time.astype(float)\n",
    "res_df['time'] = pd.to_numeric(res_df['time'], errors='coerce')\n",
    "\n",
    "# Compute the ratio matrix so that cell (i, j) is: (time_j / time_i)\n",
    "times = res_df['time'].values\n",
    "ratio_matrix = times.reshape(1, -1) / times.reshape(-1, 1)\n",
    "\n",
    "# Set logarithmic normalization for the heatmap\n",
    "norm = mcolors.LogNorm(vmin=ratio_matrix.min(), vmax=ratio_matrix.max())\n",
    "\n",
    "# Plot the heatmap with logarithmic color scaling\n",
    "plt.figure(figsize=(10, 8))\n",
    "sns.heatmap(ratio_matrix, annot=True, fmt=\".2f\", cmap=\"viridis\", norm=norm,\n",
    "            xticklabels=res_df['name'], yticklabels=res_df['name'])\n",
    "plt.title(\"Pairwise Relative Performance Heatmap\\n(Row method is x-times faster than Column method)\")\n",
    "plt.xlabel(\"Compared to\")\n",
    "plt.ylabel(\"Method (row)\")\n",
    "plt.show()"
   ]
  },
  {
   "cell_type": "code",
   "execution_count": null,
   "id": "6a16e5ae-b905-4b03-b709-43e36bec594b",
   "metadata": {},
   "outputs": [],
   "source": []
  },
  {
   "cell_type": "markdown",
   "id": "9731051d-f55f-48fc-a27e-d2ce2123d1d8",
   "metadata": {},
   "source": [
    "During dev: pyximport\n",
    "\n",
    "\n",
    "To package: https://cython.readthedocs.io/en/latest/src/userguide/source_files_and_compilation.html"
   ]
  },
  {
   "cell_type": "markdown",
   "id": "851a9a68-0d8e-48f5-a5e1-c3b97ffc311b",
   "metadata": {},
   "source": [
    "```python\n",
    "import pyximport\n",
    "\n",
    "pyximport.install(setup_args={\"include_dirs\": numpy.get_include()})\n",
    "```"
   ]
  }
 ],
 "metadata": {
  "kernelspec": {
   "display_name": "Python 3 (ipykernel)",
   "language": "python",
   "name": "python3"
  },
  "language_info": {
   "codemirror_mode": {
    "name": "ipython",
    "version": 3
   },
   "file_extension": ".py",
   "mimetype": "text/x-python",
   "name": "python",
   "nbconvert_exporter": "python",
   "pygments_lexer": "ipython3",
   "version": "3.12.9"
  }
 },
 "nbformat": 4,
 "nbformat_minor": 5
}
